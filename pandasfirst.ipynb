{
 "cells": [
  {
   "cell_type": "code",
   "execution_count": 1,
   "metadata": {},
   "outputs": [
    {
     "name": "stdout",
     "output_type": "stream",
     "text": [
      "Series([], dtype: object)\n",
      "[1, 2, 3, 4, 5, 6]\n"
     ]
    },
    {
     "data": {
      "text/plain": [
       "dtype('int64')"
      ]
     },
     "execution_count": 1,
     "metadata": {},
     "output_type": "execute_result"
    }
   ],
   "source": [
    "import pandas as pd\n",
    "s=pd.Series()\n",
    "print(s)\n",
    "data=[1,2,3,4,5,6]\n",
    "\n",
    "h=pd.Series(data)\n",
    "print(data)\n",
    "type(h)\n",
    "h.dtype"
   ]
  },
  {
   "cell_type": "code",
   "execution_count": 2,
   "metadata": {},
   "outputs": [
    {
     "name": "stdout",
     "output_type": "stream",
     "text": [
      "0    1.0\n",
      "1    2.0\n",
      "2    3.0\n",
      "3    4.0\n",
      "4    5.0\n",
      "5    6.0\n",
      "dtype: float64\n"
     ]
    }
   ],
   "source": [
    "data=[1,2,3,4,5,6]\n",
    "print(pd.Series((data),dtype=\"float\"))"
   ]
  },
  {
   "cell_type": "code",
   "execution_count": 3,
   "metadata": {},
   "outputs": [
    {
     "name": "stdout",
     "output_type": "stream",
     "text": [
      "0    1\n",
      "1    2\n",
      "2    3\n",
      "3    4\n",
      "4    5\n",
      "dtype: int32\n"
     ]
    }
   ],
   "source": [
    "import numpy as np \n",
    "a=np.array([1,2,3,4,5])\n",
    "a\n",
    "s=pd.Series(a)\n",
    "print(s)"
   ]
  },
  {
   "cell_type": "code",
   "execution_count": 4,
   "metadata": {},
   "outputs": [
    {
     "name": "stdout",
     "output_type": "stream",
     "text": [
      "0       1\n",
      "1       2\n",
      "2       3\n",
      "3       4\n",
      "4     Tru\n",
      "5    True\n",
      "dtype: object\n"
     ]
    }
   ],
   "source": [
    "import pandas as pd\n",
    "list=[1,2,3,4,\"Tru\",True]\n",
    "\n",
    "s=pd.Series(list,dtype=\"object\")\n",
    "print(s)\n"
   ]
  },
  {
   "cell_type": "code",
   "execution_count": 5,
   "metadata": {},
   "outputs": [
    {
     "name": "stdout",
     "output_type": "stream",
     "text": [
      "1    r\n",
      "2    k\n",
      "3    g\n",
      "4    l\n",
      "dtype: object\n"
     ]
    }
   ],
   "source": [
    "v=pd.Series([\"r\",\"k\",\"g\",'l'],[1,2,3,4])\n",
    "print(v)\n"
   ]
  },
  {
   "cell_type": "code",
   "execution_count": 6,
   "metadata": {},
   "outputs": [
    {
     "name": "stdout",
     "output_type": "stream",
     "text": [
      "1    q\n",
      "2    w\n",
      "3    e\n",
      "4    r\n",
      "dtype: object\n"
     ]
    }
   ],
   "source": [
    "import pandas as pd\n",
    "a=pd.Series(data=[\"q\",\"w\",\"e\",\"r\"],index=[1,2,3,4])\n",
    "print(a)"
   ]
  },
  {
   "cell_type": "code",
   "execution_count": 14,
   "metadata": {},
   "outputs": [
    {
     "name": "stdout",
     "output_type": "stream",
     "text": [
      "a    q\n",
      "s    w\n",
      "d    e\n",
      "f    r\n",
      "dtype: object\n"
     ]
    },
    {
     "data": {
      "text/plain": [
       "pandas.core.series.Series"
      ]
     },
     "execution_count": 14,
     "metadata": {},
     "output_type": "execute_result"
    }
   ],
   "source": [
    "import pandas as pd\n",
    "a=pd.Series(data=[\"q\",\"w\",\"e\",\"r\"],index=[\"a\",\"s\",\"d\",\"f\"])\n",
    "print(a)\n",
    "type(s)"
   ]
  },
  {
   "cell_type": "code",
   "execution_count": 13,
   "metadata": {},
   "outputs": [
    {
     "name": "stdout",
     "output_type": "stream",
     "text": [
      "{1: 'r', 2: 'e', 3: 'v', 4: 'd'}\n",
      "1    r\n",
      "2    e\n",
      "3    v\n",
      "4    d\n",
      "dtype: object\n"
     ]
    },
    {
     "data": {
      "text/plain": [
       "pandas.core.series.Series"
      ]
     },
     "execution_count": 13,
     "metadata": {},
     "output_type": "execute_result"
    }
   ],
   "source": [
    "d1={1:\"r\",2:\"e\",3:\"v\",4:\"d\"}\n",
    "print(d1)\n",
    "s=pd.Series(d1)\n",
    "print(s)\n",
    "type(s)\n"
   ]
  },
  {
   "cell_type": "code",
   "execution_count": 15,
   "metadata": {},
   "outputs": [
    {
     "name": "stdout",
     "output_type": "stream",
     "text": [
      "5    NaN\n",
      "2      e\n",
      "3      v\n",
      "5    NaN\n",
      "dtype: object\n"
     ]
    }
   ],
   "source": [
    "s=pd.Series(d1,[5,2,3,5,])\n",
    "print(s)"
   ]
  },
  {
   "cell_type": "code",
   "execution_count": 17,
   "metadata": {},
   "outputs": [
    {
     "name": "stdout",
     "output_type": "stream",
     "text": [
      "0    10\n",
      "dtype: int64\n"
     ]
    }
   ],
   "source": [
    "s=pd.Series(10)\n",
    "print(s)"
   ]
  },
  {
   "cell_type": "code",
   "execution_count": 18,
   "metadata": {},
   "outputs": [
    {
     "name": "stdout",
     "output_type": "stream",
     "text": [
      "a    10\n",
      "b    10\n",
      "c    10\n",
      "dtype: int64\n"
     ]
    }
   ],
   "source": [
    "a=pd.Series(10,[\"a\",\"b\",\"c\"])\n",
    "print(a)"
   ]
  },
  {
   "cell_type": "code",
   "execution_count": 23,
   "metadata": {},
   "outputs": [
    {
     "name": "stdout",
     "output_type": "stream",
     "text": [
      "a    1\n",
      "b    2\n",
      "c    3\n",
      "d    4\n",
      "e    5\n",
      "dtype: int64\n",
      "a    1\n",
      "b    2\n",
      "c    3\n",
      "dtype: int64\n"
     ]
    }
   ],
   "source": [
    "a=pd.Series([1,2,3,4,5],[\"a\",\"b\",\"c\",\"d\",\"e\"])\n",
    "print(a)\n",
    "print(a[0:3])"
   ]
  },
  {
   "cell_type": "code",
   "execution_count": 25,
   "metadata": {},
   "outputs": [
    {
     "name": "stdout",
     "output_type": "stream",
     "text": [
      "4\n"
     ]
    },
    {
     "name": "stderr",
     "output_type": "stream",
     "text": [
      "C:\\Users\\user\\AppData\\Local\\Temp\\ipykernel_16360\\379985302.py:1: FutureWarning: Series.__getitem__ treating keys as positions is deprecated. In a future version, integer keys will always be treated as labels (consistent with DataFrame behavior). To access a value by position, use `ser.iloc[pos]`\n",
      "  print(a[3])\n"
     ]
    }
   ],
   "source": [
    "print(a[3])"
   ]
  },
  {
   "cell_type": "code",
   "execution_count": 27,
   "metadata": {},
   "outputs": [
    {
     "name": "stdout",
     "output_type": "stream",
     "text": [
      "a    1\n",
      "c    3\n",
      "dtype: int64\n"
     ]
    }
   ],
   "source": [
    "print(a[0:3:2])"
   ]
  },
  {
   "cell_type": "code",
   "execution_count": 28,
   "metadata": {},
   "outputs": [
    {
     "name": "stdout",
     "output_type": "stream",
     "text": [
      "a    1\n",
      "b    2\n",
      "c    3\n",
      "d    4\n",
      "e    5\n",
      "dtype: int64\n"
     ]
    }
   ],
   "source": [
    "print(a[:])"
   ]
  },
  {
   "cell_type": "code",
   "execution_count": 30,
   "metadata": {},
   "outputs": [
    {
     "name": "stdout",
     "output_type": "stream",
     "text": [
      "2\n"
     ]
    },
    {
     "name": "stderr",
     "output_type": "stream",
     "text": [
      "C:\\Users\\user\\AppData\\Local\\Temp\\ipykernel_16360\\2692428505.py:1: FutureWarning: Series.__getitem__ treating keys as positions is deprecated. In a future version, integer keys will always be treated as labels (consistent with DataFrame behavior). To access a value by position, use `ser.iloc[pos]`\n",
      "  print(a[1])\n"
     ]
    }
   ],
   "source": [
    "print(a[1])"
   ]
  },
  {
   "cell_type": "code",
   "execution_count": 33,
   "metadata": {},
   "outputs": [
    {
     "name": "stdout",
     "output_type": "stream",
     "text": [
      "a      1\n",
      "b      2\n",
      "c    100\n",
      "d      4\n",
      "e      5\n",
      "dtype: int64\n"
     ]
    }
   ],
   "source": [
    "a[\"c\"]=100\n",
    "print(a)"
   ]
  },
  {
   "cell_type": "code",
   "execution_count": 35,
   "metadata": {},
   "outputs": [
    {
     "name": "stdout",
     "output_type": "stream",
     "text": [
      "a      1\n",
      "b      2\n",
      "c    100\n",
      "dtype: int64\n"
     ]
    }
   ],
   "source": [
    "print(a[[\"a\",\"b\",\"c\"]])"
   ]
  },
  {
   "cell_type": "code",
   "execution_count": 36,
   "metadata": {},
   "outputs": [
    {
     "name": "stdout",
     "output_type": "stream",
     "text": [
      "Empty DataFrame\n",
      "Columns: []\n",
      "Index: []\n"
     ]
    }
   ],
   "source": [
    "df=pd.DataFrame()\n",
    "print(df)\n"
   ]
  },
  {
   "cell_type": "code",
   "execution_count": 38,
   "metadata": {},
   "outputs": [
    {
     "name": "stdout",
     "output_type": "stream",
     "text": [
      "   0\n",
      "0  1\n",
      "1  2\n",
      "2  3\n",
      "3  4\n",
      "4  5\n",
      "5  6\n"
     ]
    }
   ],
   "source": [
    "list=[1,2,3,4,5,6]\n",
    "p=pd.DataFrame(list)\n",
    "print(p)"
   ]
  },
  {
   "cell_type": "code",
   "execution_count": 39,
   "metadata": {},
   "outputs": [
    {
     "name": "stdout",
     "output_type": "stream",
     "text": [
      "   0\n",
      "0  a\n",
      "1  b\n",
      "2  c\n",
      "3  d\n"
     ]
    }
   ],
   "source": [
    "l=pd.DataFrame([\"a\",\"b\",\"c\",\"d\"])\n",
    "\n",
    "print(l)"
   ]
  },
  {
   "cell_type": "code",
   "execution_count": 40,
   "metadata": {},
   "outputs": [
    {
     "name": "stdout",
     "output_type": "stream",
     "text": [
      "    0  1\n",
      "0  10  k\n",
      "1  20  l\n",
      "2  30  p\n"
     ]
    }
   ],
   "source": [
    "lst=[[10,\"k\"],[20,\"l\"],[30,\"p\"]]\n",
    "d=pd.DataFrame(lst)\n",
    "print(d)"
   ]
  },
  {
   "cell_type": "code",
   "execution_count": 42,
   "metadata": {},
   "outputs": [
    {
     "name": "stdout",
     "output_type": "stream",
     "text": [
      "   0  1  2  3\n",
      "0  1  2  3  4\n",
      "1  a  b  c  d\n"
     ]
    }
   ],
   "source": [
    "lst=[[1,2,3,4],[\"a\",\"b\",\"c\",\"d\"]]\n",
    "d=pd.DataFrame(lst)\n",
    "print(d)"
   ]
  },
  {
   "cell_type": "code",
   "execution_count": 44,
   "metadata": {},
   "outputs": [
    {
     "name": "stdout",
     "output_type": "stream",
     "text": [
      "  name  age\n",
      "1    t    6\n",
      "2    k    3\n",
      "3    l    5\n"
     ]
    }
   ],
   "source": [
    "lst=[[\"t\",6],['k',3],['l',5]]\n",
    "df=pd.DataFrame(lst,index=[1,2,3],columns=[\"name\",\"age\"])\n",
    "print(df)"
   ]
  },
  {
   "cell_type": "code",
   "execution_count": 45,
   "metadata": {},
   "outputs": [
    {
     "name": "stdout",
     "output_type": "stream",
     "text": [
      "  name  age\n",
      "0    t    6\n",
      "1    k    3\n",
      "2    l    5\n"
     ]
    }
   ],
   "source": [
    "df=pd.DataFrame(lst,columns=['name','age'])\n",
    "print(df)"
   ]
  },
  {
   "cell_type": "code",
   "execution_count": 51,
   "metadata": {},
   "outputs": [
    {
     "name": "stdout",
     "output_type": "stream",
     "text": [
      "  name  age\n",
      "1    t    6\n",
      "2    k    3\n",
      "3    l    5\n"
     ]
    }
   ],
   "source": [
    "df=pd.DataFrame(lst,index=[1,2,3],columns=['name','age'])\n",
    "print(df)"
   ]
  },
  {
   "cell_type": "code",
   "execution_count": 59,
   "metadata": {},
   "outputs": [
    {
     "name": "stdout",
     "output_type": "stream",
     "text": [
      "{'name': ['d', 's', 'a'], 'sub1': ['a', 'z', 'c'], 'sub2': ['qw', 'we', 'er']}\n",
      "  name sub1 sub2\n",
      "0    d    a   qw\n",
      "1    s    z   we\n",
      "2    a    c   er\n"
     ]
    }
   ],
   "source": [
    "studs={\"name\":[\"d\",\"s\",\"a\"],'sub1':[\"a\",\"z\",\"c\"],'sub2':[\"qw\",\"we\",\"er\"]}\n",
    "print(studs)\n",
    "\n",
    "\n",
    "print(pd.DataFrame(studs))"
   ]
  },
  {
   "cell_type": "code",
   "execution_count": 58,
   "metadata": {},
   "outputs": [
    {
     "name": "stdout",
     "output_type": "stream",
     "text": [
      "{'name': 0    d\n",
      "1    s\n",
      "2    a\n",
      "dtype: object, 'sub1': 0    a\n",
      "1    z\n",
      "2    c\n",
      "dtype: object, 'sub2': 0    qw\n",
      "1    we\n",
      "2    er\n",
      "dtype: object}\n",
      "    name sub1 sub2\n",
      "100  NaN  NaN  NaN\n",
      "200  NaN  NaN  NaN\n",
      "300  NaN  NaN  NaN\n",
      "400  NaN  NaN  NaN\n"
     ]
    }
   ],
   "source": [
    "studs={\"name\":pd.Series([\"d\",\"s\",\"a\"]),'sub1':pd.Series([\"a\",\"z\",\"c\"]),'sub2':pd.Series([\"qw\",\"we\",\"er\"])}\n",
    "print(studs)\n",
    "type(studs)\n",
    "df=pd.DataFrame(studs,index=[100,200,300,400])\n",
    "print(df)\n"
   ]
  },
  {
   "cell_type": "code",
   "execution_count": 63,
   "metadata": {},
   "outputs": [
    {
     "name": "stdout",
     "output_type": "stream",
     "text": [
      "{'name': ['d', 's', 'a'], 'sub1': ['a', 'z', 'c'], 'sub2': ['qw', 'we', 'er']}\n",
      "  name sub1 sub2\n",
      "0    d    a   qw\n",
      "1    s    z   we\n",
      "2    a    c   er\n"
     ]
    }
   ],
   "source": [
    "studs={\"name\":[\"d\",\"s\",\"a\"],'sub1':[\"a\",\"z\",\"c\"],'sub2':[\"qw\",\"we\",\"er\"]}\n",
    "print(studs)\n",
    "type(studs)\n",
    "df=pd.DataFrame(studs)\n",
    "print(df)\n"
   ]
  },
  {
   "cell_type": "code",
   "execution_count": 65,
   "metadata": {},
   "outputs": [
    {
     "name": "stdout",
     "output_type": "stream",
     "text": [
      "0    d\n",
      "1    s\n",
      "2    a\n",
      "Name: name, dtype: object\n"
     ]
    }
   ],
   "source": [
    "print(df[\"name\"])"
   ]
  },
  {
   "cell_type": "code",
   "execution_count": null,
   "metadata": {},
   "outputs": [],
   "source": []
  }
 ],
 "metadata": {
  "kernelspec": {
   "display_name": "Python 3",
   "language": "python",
   "name": "python3"
  },
  "language_info": {
   "codemirror_mode": {
    "name": "ipython",
    "version": 3
   },
   "file_extension": ".py",
   "mimetype": "text/x-python",
   "name": "python",
   "nbconvert_exporter": "python",
   "pygments_lexer": "ipython3",
   "version": "3.11.9"
  }
 },
 "nbformat": 4,
 "nbformat_minor": 2
}
